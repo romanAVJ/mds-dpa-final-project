{
 "cells": [
  {
   "cell_type": "markdown",
   "metadata": {},
   "source": [
    "# Spark Notebook\n",
    "\n",
    "@roman, pablo, javier\n",
    "\n",
    "19 May, 2024"
   ]
  },
  {
   "cell_type": "markdown",
   "metadata": {},
   "source": [
    "---\n",
    "# Settings"
   ]
  },
  {
   "cell_type": "code",
   "execution_count": 1,
   "metadata": {},
   "outputs": [
    {
     "name": "stdout",
     "output_type": "stream",
     "text": [
      "Starting Spark application\n"
     ]
    },
    {
     "data": {
      "text/html": [
       "<table>\n",
       "<tr><th>ID</th><th>YARN Application ID</th><th>Kind</th><th>State</th><th>Spark UI</th><th>Driver log</th><th>User</th><th>Current session?</th></tr><tr><td>1</td><td>application_1716122928296_0002</td><td>pyspark</td><td>idle</td><td><a target=\"_blank\" href=\"http://ip-172-31-9-230.ec2.internal:20888/proxy/application_1716122928296_0002/\">Link</a></td><td><a target=\"_blank\" href=\"http://ip-172-31-2-55.ec2.internal:8042/node/containerlogs/container_1716122928296_0002_01_000001/livy\">Link</a></td><td>None</td><td>✔</td></tr></table>"
      ],
      "text/plain": [
       "<IPython.core.display.HTML object>"
      ]
     },
     "metadata": {},
     "output_type": "display_data"
    },
    {
     "data": {
      "application/vnd.jupyter.widget-view+json": {
       "model_id": "",
       "version_major": 2,
       "version_minor": 0
      },
      "text/plain": [
       "FloatProgress(value=0.0, bar_style='info', description='Progress:', layout=Layout(height='25px', width='50%'),…"
      ]
     },
     "metadata": {},
     "output_type": "display_data"
    },
    {
     "name": "stdout",
     "output_type": "stream",
     "text": [
      "SparkSession available as 'spark'.\n"
     ]
    },
    {
     "data": {
      "application/vnd.jupyter.widget-view+json": {
       "model_id": "",
       "version_major": 2,
       "version_minor": 0
      },
      "text/plain": [
       "FloatProgress(value=0.0, bar_style='info', description='Progress:', layout=Layout(height='25px', width='50%'),…"
      ]
     },
     "metadata": {},
     "output_type": "display_data"
    }
   ],
   "source": [
    "from pyspark.sql import SparkSession\n",
    "import pyspark.sql.functions as F\n",
    "from pyspark.sql.functions import col\n",
    "from pyspark.sql.window import Window"
   ]
  },
  {
   "cell_type": "code",
   "execution_count": 2,
   "metadata": {},
   "outputs": [
    {
     "data": {
      "application/vnd.jupyter.widget-view+json": {
       "model_id": "",
       "version_major": 2,
       "version_minor": 0
      },
      "text/plain": [
       "FloatProgress(value=0.0, bar_style='info', description='Progress:', layout=Layout(height='25px', width='50%'),…"
      ]
     },
     "metadata": {},
     "output_type": "display_data"
    }
   ],
   "source": [
    "# init spark session\n",
    "spark = SparkSession.builder.appName('telecom').getOrCreate()"
   ]
  },
  {
   "cell_type": "code",
   "execution_count": 3,
   "metadata": {},
   "outputs": [
    {
     "data": {
      "application/vnd.jupyter.widget-view+json": {
       "model_id": "",
       "version_major": 2,
       "version_minor": 0
      },
      "text/plain": [
       "FloatProgress(value=0.0, bar_style='info', description='Progress:', layout=Layout(height='25px', width='50%'),…"
      ]
     },
     "metadata": {},
     "output_type": "display_data"
    }
   ],
   "source": [
    "# bucket\n",
    "NAME = 'javier'\n",
    "BUCKET = f\"s3://itam-analytics-{NAME}\"\n",
    "FOLDER = 'telecom'\n",
    "\n",
    "SAVE_BUCKET = 'telecom-outputs'"
   ]
  },
  {
   "cell_type": "markdown",
   "metadata": {},
   "source": [
    "---\n",
    "# Data"
   ]
  },
  {
   "cell_type": "markdown",
   "metadata": {},
   "source": [
    "## S1: Read Data"
   ]
  },
  {
   "cell_type": "code",
   "execution_count": 4,
   "metadata": {},
   "outputs": [
    {
     "data": {
      "application/vnd.jupyter.widget-view+json": {
       "model_id": "",
       "version_major": 2,
       "version_minor": 0
      },
      "text/plain": [
       "FloatProgress(value=0.0, bar_style='info', description='Progress:', layout=Layout(height='25px', width='50%'),…"
      ]
     },
     "metadata": {},
     "output_type": "display_data"
    },
    {
     "name": "stdout",
     "output_type": "stream",
     "text": [
      "root\n",
      " |-- report_id: long (nullable = true)\n",
      " |-- trigger_name: string (nullable = true)\n",
      " |-- result_date: timestamp_ntz (nullable = true)\n",
      " |-- received_date: timestamp_ntz (nullable = true)\n",
      " |-- received_date_local: string (nullable = true)\n",
      " |-- time_zone_name: string (nullable = true)\n",
      " |-- device_id: double (nullable = true)\n",
      " |-- device_model: string (nullable = true)\n",
      " |-- device_manufacturer: string (nullable = true)\n",
      " |-- device_model_raw: string (nullable = true)\n",
      " |-- device_manufacturer_raw: string (nullable = true)\n",
      " |-- device_brand_raw: string (nullable = true)\n",
      " |-- os_version: string (nullable = true)\n",
      " |-- app_version: string (nullable = true)\n",
      " |-- connection_type: double (nullable = true)\n",
      " |-- is_airplane_mode: string (nullable = true)\n",
      " |-- is_network_roaming: string (nullable = true)\n",
      " |-- is_international_roaming: string (nullable = true)\n",
      " |-- number_registered_networks: double (nullable = true)\n",
      " |-- number_unregistered_networks: double (nullable = true)\n",
      " |-- sim_operator_name: string (nullable = true)\n",
      " |-- raw_sim_operator_name: string (nullable = true)\n",
      " |-- sim_operator_mcc_code: double (nullable = true)\n",
      " |-- sim_operator_mnc_code: double (nullable = true)\n",
      " |-- network_operator_mcc_code: double (nullable = true)\n",
      " |-- network_operator_mnc_code: double (nullable = true)\n",
      " |-- client_latitude: double (nullable = true)\n",
      " |-- client_longitude: double (nullable = true)\n",
      " |-- altitude: double (nullable = true)\n",
      " |-- location_accuracy: double (nullable = true)\n",
      " |-- location_age: double (nullable = true)\n",
      " |-- location_type: double (nullable = true)\n",
      " |-- country: string (nullable = true)\n",
      " |-- region: string (nullable = true)\n",
      " |-- subregion: string (nullable = true)\n",
      " |-- locality: string (nullable = true)\n",
      " |-- place_type: string (nullable = true)\n",
      " |-- postal_code: string (nullable = true)\n",
      " |-- computed_cellular_generation: string (nullable = true)\n",
      " |-- tac: double (nullable = true)\n",
      " |-- pci: double (nullable = true)\n",
      " |-- cell_identifier: double (nullable = true)\n",
      " |-- lte_enodeb: double (nullable = true)\n",
      " |-- rnc_id: double (nullable = true)\n",
      " |-- cell_id: double (nullable = true)\n",
      " |-- arfcn: double (nullable = true)\n",
      " |-- uarfcn: double (nullable = true)\n",
      " |-- earfcn: double (nullable = true)\n",
      " |-- is_primary_cell: string (nullable = true)\n",
      " |-- rsrp: double (nullable = true)\n",
      " |-- rsrq: double (nullable = true)\n",
      " |-- rssi: double (nullable = true)\n",
      " |-- rssnr: double (nullable = true)\n",
      " |-- timing_advance: double (nullable = true)\n",
      " |-- cqi: double (nullable = true)\n",
      " |-- wifi_enabled: string (nullable = true)\n",
      " |-- wifi_state: double (nullable = true)\n",
      " |-- wifi_rssi: double (nullable = true)\n",
      " |-- wifi_frequency: double (nullable = true)\n",
      " |-- wifi_channel: double (nullable = true)\n",
      " |-- app_foreground: string (nullable = true)\n",
      " |-- azimuth: double (nullable = true)\n",
      " |-- battery_level: string (nullable = true)\n",
      " |-- battery_level_max: double (nullable = true)\n",
      " |-- battery_plugged: string (nullable = true)\n",
      " |-- battery_present: string (nullable = true)\n",
      " |-- battery_status: double (nullable = true)\n",
      " |-- battery_technology: string (nullable = true)\n",
      " |-- battery_temperature: double (nullable = true)\n",
      " |-- battery_voltage: double (nullable = true)\n",
      " |-- device_idle_mode: string (nullable = true)\n",
      " |-- humidity: double (nullable = true)\n",
      " |-- humidity_accuracy: double (nullable = true)\n",
      " |-- light_lx: double (nullable = true)\n",
      " |-- light_accuracy: double (nullable = true)\n",
      " |-- pitch: double (nullable = true)\n",
      " |-- power_interactive: string (nullable = true)\n",
      " |-- power_save_mode: string (nullable = true)\n",
      " |-- pressure_accuracy: string (nullable = true)\n",
      " |-- pressure_mbar: double (nullable = true)\n",
      " |-- temp_celsius: double (nullable = true)\n",
      " |-- temp_accuracy: string (nullable = true)\n",
      " |-- grant_billing: string (nullable = true)\n",
      " |-- grant_internet: string (nullable = true)\n",
      " |-- grant_network_state: string (nullable = true)\n",
      " |-- grant_phone_state: string (nullable = true)\n",
      " |-- grant_fine_location: string (nullable = true)\n",
      " |-- grant_coarse_location: string (nullable = true)\n",
      " |-- grant_background_location: string (nullable = true)\n",
      " |-- grant_wifi_state: string (nullable = true)\n",
      " |-- grant_boot_completed: string (nullable = true)\n",
      " |-- valid_device_check: string (nullable = true)\n",
      " |-- location_check: string (nullable = true)\n",
      " |-- radio: string (nullable = true)\n",
      " |-- service_state: string (nullable = true)\n",
      " |-- sim_state: string (nullable = true)\n",
      " |-- sim_count: string (nullable = true)\n",
      " |-- guid: string (nullable = true)\n",
      " |-- cell_bandwidth: double (nullable = true)\n",
      " |-- vertical_accuracy: double (nullable = true)\n",
      " |-- nr_ss_rsrp: double (nullable = true)\n",
      " |-- nr_ss_rsrq: double (nullable = true)\n",
      " |-- nr_ss_sinr: double (nullable = true)\n",
      " |-- nr_csi_rsrp: double (nullable = true)\n",
      " |-- nr_csi_rsrq: double (nullable = true)\n",
      " |-- nr_csi_sinr: double (nullable = true)\n",
      " |-- nr_level: double (nullable = true)\n",
      " |-- nr_asu: double (nullable = true)\n",
      " |-- nr_arfcn: double (nullable = true)\n",
      " |-- nr_nci: double (nullable = true)\n",
      " |-- nr_pci: double (nullable = true)\n",
      " |-- nr_tac: double (nullable = true)\n",
      " |-- nr_mcc: string (nullable = true)\n",
      " |-- nr_mnc: string (nullable = true)\n",
      " |-- nr_state: double (nullable = true)\n",
      " |-- nr_frequency_range: double (nullable = true)\n",
      " |-- is_nr_available: string (nullable = true)\n",
      " |-- is_nr_telephony_sourced: string (nullable = true)\n",
      " |-- is_using_carrier_aggregation: string (nullable = true)\n",
      " |-- chipset_name: string (nullable = true)\n",
      " |-- chipset_manufacturer: string (nullable = true)\n",
      " |-- cell_bandwidths: string (nullable = true)\n",
      " |-- is_access_network_technology_nr: string (nullable = true)\n",
      " |-- device_tac: double (nullable = true)\n",
      " |-- downstream_bandwidth_kbps: double (nullable = true)\n",
      " |-- wifi_channel_width: double (nullable = true)\n",
      " |-- has_bg_location_permission: string (nullable = true)\n",
      " |-- has_cellular_service: string (nullable = true)\n",
      " |-- upstream_bandwidth_kbps: double (nullable = true)\n",
      " |-- gsm_additional_plmns: string (nullable = true)\n",
      " |-- tdscdma_additional_plmns: string (nullable = true)\n",
      " |-- wcdma_additional_plmns: string (nullable = true)\n",
      " |-- lte_additional_plmns: string (nullable = true)\n",
      " |-- lte_bands: string (nullable = true)\n",
      " |-- nr_additional_plmns: string (nullable = true)\n",
      " |-- nr_bands: string (nullable = true)\n",
      " |-- gsm_rssi: double (nullable = true)\n",
      " |-- wcdma_ecno: double (nullable = true)\n",
      " |-- wifi_rx_link_speed: double (nullable = true)\n",
      " |-- wifi_max_supported_rx_link_speed: double (nullable = true)\n",
      " |-- wifi_max_supported_tx_link_speed: double (nullable = true)\n",
      " |-- wifi_passpoint_fqdn: string (nullable = true)\n",
      " |-- wifi_passpoint_provider_name: string (nullable = true)\n",
      " |-- wifi_carrier_name: string (nullable = true)\n",
      " |-- wifi_standard: double (nullable = true)\n",
      " |-- wifi_is_2_4GHz_band_supported: string (nullable = true)\n",
      " |-- wifi_is_6GHz_band_supported: string (nullable = true)\n",
      " |-- wifi_is_60GHz_band_supported: string (nullable = true)\n",
      " |-- current_thermal_status: double (nullable = true)\n",
      " |-- thermal_headroom: double (nullable = true)\n",
      " |-- alt_sim_operator_name: string (nullable = true)\n",
      " |-- alt_raw_sim_operator_name: string (nullable = true)\n",
      " |-- alt_sim_operator_mcc_code: double (nullable = true)\n",
      " |-- alt_sim_operator_mnc_code: double (nullable = true)\n",
      " |-- data_activity: double (nullable = true)\n",
      " |-- data_state: double (nullable = true)\n",
      " |-- display_state: double (nullable = true)\n",
      " |-- is_concurrent_voice_data_supported: string (nullable = true)\n",
      " |-- is_data_capable: string (nullable = true)\n",
      " |-- is_data_enabled: string (nullable = true)\n",
      " |-- is_data_connection_allowed: string (nullable = true)\n",
      " |-- is_data_roaming_enabled: string (nullable = true)\n",
      " |-- has_icc_card: string (nullable = true)\n",
      " |-- is_world_phone: string (nullable = true)\n",
      " |-- is_multi_sim_supported: double (nullable = true)\n",
      " |-- active_modem_count: double (nullable = true)\n",
      " |-- supported_modem_count: double (nullable = true)\n",
      " |-- override_network_type: double (nullable = true)\n",
      " |-- lac: double (nullable = true)\n",
      " |-- psc: double (nullable = true)\n",
      " |-- location_speed_mps: double (nullable = true)\n",
      " |-- is_device_5g_capable: string (nullable = true)\n",
      " |-- device_language: string (nullable = true)\n",
      " |-- dif: double (nullable = true)\n",
      " |-- __null_dask_index__: long (nullable = true)\n",
      " |-- network_operator_name: string (nullable = true)"
     ]
    }
   ],
   "source": [
    "# read parquet from s3\n",
    "df_telecom = spark.read.parquet(f\"{BUCKET}/{FOLDER}\")\n",
    "\n",
    "# look columns\n",
    "df_telecom.printSchema()"
   ]
  },
  {
   "cell_type": "code",
   "execution_count": 5,
   "metadata": {},
   "outputs": [
    {
     "data": {
      "application/vnd.jupyter.widget-view+json": {
       "model_id": "",
       "version_major": 2,
       "version_minor": 0
      },
      "text/plain": [
       "FloatProgress(value=0.0, bar_style='info', description='Progress:', layout=Layout(height='25px', width='50%'),…"
      ]
     },
     "metadata": {},
     "output_type": "display_data"
    },
    {
     "name": "stdout",
     "output_type": "stream",
     "text": [
      "22030647"
     ]
    }
   ],
   "source": [
    "# see number of rows\n",
    "df_telecom.count()"
   ]
  },
  {
   "cell_type": "code",
   "execution_count": 6,
   "metadata": {},
   "outputs": [
    {
     "data": {
      "application/vnd.jupyter.widget-view+json": {
       "model_id": "",
       "version_major": 2,
       "version_minor": 0
      },
      "text/plain": [
       "FloatProgress(value=0.0, bar_style='info', description='Progress:', layout=Layout(height='25px', width='50%'),…"
      ]
     },
     "metadata": {},
     "output_type": "display_data"
    },
    {
     "name": "stdout",
     "output_type": "stream",
     "text": [
      "0"
     ]
    }
   ],
   "source": [
    "# see number of nulls in column \"subregion\"\n",
    "df_telecom.filter(col(\"locality\").isNull()).count()"
   ]
  },
  {
   "cell_type": "markdown",
   "metadata": {},
   "source": [
    "---\n",
    "# Users Demographics"
   ]
  },
  {
   "cell_type": "markdown",
   "metadata": {},
   "source": [
    "## S1: Where does each user lives"
   ]
  },
  {
   "cell_type": "code",
   "execution_count": 7,
   "metadata": {},
   "outputs": [
    {
     "data": {
      "application/vnd.jupyter.widget-view+json": {
       "model_id": "",
       "version_major": 2,
       "version_minor": 0
      },
      "text/plain": [
       "FloatProgress(value=0.0, bar_style='info', description='Progress:', layout=Layout(height='25px', width='50%'),…"
      ]
     },
     "metadata": {},
     "output_type": "display_data"
    }
   ],
   "source": [
    "# get the most visited postal_code per user as dataframe\n",
    "df_user_location = (\n",
    "    df_telecom\n",
    "    .groupBy(\"device_id\", \"raw_sim_operator_name\", \"postal_code\").count()\n",
    "    .withColumn(\"rank\", F.row_number().over(Window.partitionBy(\"device_id\").orderBy(col(\"count\").desc())))\n",
    "    .filter(col(\"rank\") == 1)\n",
    "    .drop(\"rank\", \"count\")\n",
    "    )"
   ]
  },
  {
   "cell_type": "code",
   "execution_count": 8,
   "metadata": {},
   "outputs": [
    {
     "data": {
      "application/vnd.jupyter.widget-view+json": {
       "model_id": "",
       "version_major": 2,
       "version_minor": 0
      },
      "text/plain": [
       "FloatProgress(value=0.0, bar_style='info', description='Progress:', layout=Layout(height='25px', width='50%'),…"
      ]
     },
     "metadata": {},
     "output_type": "display_data"
    }
   ],
   "source": [
    "# for each user get distinct rows of device_id, postal_code, raw_sim_operator_name\n",
    "df_lon_lat = (\n",
    "    df_telecom\n",
    "    .select(\"device_id\", \"postal_code\", \"raw_sim_operator_name\", \"client_longitude\", \"client_latitude\")\n",
    "    .dropDuplicates(\n",
    "        subset=[\"device_id\", \"postal_code\", \"raw_sim_operator_name\"]\n",
    "    )\n",
    ")"
   ]
  },
  {
   "cell_type": "code",
   "execution_count": null,
   "metadata": {},
   "outputs": [
    {
     "data": {
      "application/vnd.jupyter.widget-view+json": {
       "model_id": "bdff41dbf93e4113835871a34f8fc20a",
       "version_major": 2,
       "version_minor": 0
      },
      "text/plain": [
       "FloatProgress(value=0.0, bar_style='info', description='Progress:', layout=Layout(height='25px', width='50%'),…"
      ]
     },
     "metadata": {},
     "output_type": "display_data"
    }
   ],
   "source": [
    "# join both dataframes\n",
    "df_user_location = (\n",
    "    df_user_location\n",
    "    .join(df_lon_lat, [\"device_id\", \"postal_code\", \"raw_sim_operator_name\"], \"inner\")\n",
    ")\n",
    "\n",
    "# show\n",
    "df_user_location.show()"
   ]
  },
  {
   "cell_type": "markdown",
   "metadata": {},
   "source": [
    "## S2: Where does each user connects"
   ]
  },
  {
   "cell_type": "code",
   "execution_count": 13,
   "metadata": {},
   "outputs": [
    {
     "data": {
      "application/vnd.jupyter.widget-view+json": {
       "model_id": "",
       "version_major": 2,
       "version_minor": 0
      },
      "text/plain": [
       "FloatProgress(value=0.0, bar_style='info', description='Progress:', layout=Layout(height='25px', width='50%'),…"
      ]
     },
     "metadata": {},
     "output_type": "display_data"
    },
    {
     "name": "stdout",
     "output_type": "stream",
     "text": [
      "+------------+---------------------+-----------+-------------------+\n",
      "|   device_id|raw_sim_operator_name|postal_code|        result_date|\n",
      "+------------+---------------------+-----------+-------------------+\n",
      "|4.38055655E8|                 BAIT|      72340|2024-04-01 22:40:46|\n",
      "|4.64511631E8|                 BAIT|      53348|2024-04-01 03:13:41|\n",
      "|4.52248118E8|                 BAIT|      86050|2024-04-01 17:57:48|\n",
      "|4.56368721E8|                 BAIT|      52997|2024-04-02 06:26:29|\n",
      "|4.46934763E8|                 BAIT|      54466|2024-04-01 13:53:29|\n",
      "|4.66838394E8|              DALEFON|      20358|2024-04-01 04:52:42|\n",
      "|4.39397068E8|                 BAIT|      20259|2024-04-01 22:11:08|\n",
      "|4.60056803E8|              DALEFON|      72595|2024-04-02 03:06:28|\n",
      "| 4.4498981E8|                 BAIT|      61312|2024-04-22 02:51:52|\n",
      "|4.62917852E8|                PILLO|      72020|2024-04-22 01:03:08|\n",
      "|3.93071691E8|               MEXFON|      76121|2024-04-22 06:55:02|\n",
      "| 4.5838915E8|                 BAIT|      09920|2024-04-22 02:05:17|\n",
      "|4.34687798E8|                 BAIT|      64730|2024-04-22 03:24:58|\n",
      "|4.62633069E8|                 BAIT|      91700|2024-04-21 21:17:07|\n",
      "|4.58538868E8|                 BAIT|      91050|2024-04-22 09:22:46|\n",
      "|4.36408379E8|                 BAIT|      45650|2024-04-21 23:04:20|\n",
      "|4.29767669E8|        NeWWW R|NeWWW|      76246|2024-04-14 08:48:21|\n",
      "|4.64068234E8|           BettewareC|      03400|2024-04-14 01:18:21|\n",
      "|4.67888852E8|                 DIRI|      37745|2024-04-14 08:24:59|\n",
      "|4.45871508E8|             CFE TEIT|      22105|2024-04-14 00:38:55|\n",
      "+------------+---------------------+-----------+-------------------+\n",
      "only showing top 20 rows"
     ]
    }
   ],
   "source": [
    "# get the date of each connection per postal_code as dataframe\n",
    "df_user_connection = (\n",
    "    df_telecom\n",
    "    .groupBy(\"device_id\", \"raw_sim_operator_name\", \"postal_code\",\"result_date\").count()\n",
    "    .withColumn(\"rank\", F.row_number().over(Window.partitionBy(\"device_id\").orderBy(col(\"count\").desc())))\n",
    "    .drop(\"rank\", \"count\")\n",
    "    )\n",
    "\n",
    "# show\n",
    "df_user_connection.show()"
   ]
  },
  {
   "cell_type": "markdown",
   "metadata": {},
   "source": [
    "---\n",
    "# Write"
   ]
  },
  {
   "cell_type": "code",
   "execution_count": null,
   "metadata": {},
   "outputs": [],
   "source": [
    "# save table to parquet\n",
    "df_user_location.write.parquet(f\"{BUCKET}/{SAVE_BUCKET}/user_location\", mode=\"overwrite\")"
   ]
  },
  {
   "cell_type": "code",
   "execution_count": null,
   "metadata": {},
   "outputs": [
    {
     "data": {
      "application/vnd.jupyter.widget-view+json": {
       "model_id": "0f9f571bc173481d90255cec1432e148",
       "version_major": 2,
       "version_minor": 0
      },
      "text/plain": [
       "FloatProgress(value=0.0, bar_style='info', description='Progress:', layout=Layout(height='25px', width='50%'),…"
      ]
     },
     "metadata": {},
     "output_type": "display_data"
    }
   ],
   "source": [
    "# save table to parquet\n",
    "df_user_connection.write.parquet(f\"{BUCKET}/{SAVE_BUCKET}/user_connection\", mode=\"overwrite\")"
   ]
  },
  {
   "cell_type": "markdown",
   "metadata": {},
   "source": [
    "---\n",
    "# Sandbox"
   ]
  },
  {
   "cell_type": "code",
   "execution_count": null,
   "metadata": {},
   "outputs": [],
   "source": [
    "# count number of unique localities\n",
    "df_location_counts.select(\"locality\").distinct().count()"
   ]
  }
 ],
 "metadata": {
  "kernelspec": {
   "display_name": "PySpark",
   "language": "python",
   "name": "pysparkkernel"
  },
  "language_info": {
   "codemirror_mode": {
    "name": "python",
    "version": 3
   },
   "file_extension": ".py",
   "mimetype": "text/x-python",
   "name": "pyspark",
   "pygments_lexer": "python3"
  }
 },
 "nbformat": 4,
 "nbformat_minor": 2
}
